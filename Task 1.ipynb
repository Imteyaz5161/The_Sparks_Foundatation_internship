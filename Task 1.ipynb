# The_Sparks_Foundatation_internship
I am completed computer science and engineering interested to python, SQL, and r programming
